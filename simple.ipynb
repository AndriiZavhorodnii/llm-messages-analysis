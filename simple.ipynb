{
 "cells": [
  {
   "metadata": {},
   "cell_type": "markdown",
   "source": "source: https://medium.com/@lucafiaschi/turning-customers-feedback-into-action-an-llm-blueprint-for-app-review-analysis-7f5d39d08f6e",
   "id": "bb0d60ce5d9cf630"
  },
  {
   "metadata": {
    "ExecuteTime": {
     "end_time": "2025-06-21T11:42:20.345677Z",
     "start_time": "2025-06-21T11:42:20.046124Z"
    }
   },
   "cell_type": "code",
   "source": [
    "import json\n",
    "import pandas as pd\n",
    "import numpy as np\n",
    "\n",
    "from joblib import Parallel, delayed\n",
    "import datetime\n",
    "import time\n",
    "\n",
    "import openai\n",
    "import os\n",
    "from google import genai\n",
    "\n",
    "from yaml_helper import YamlParser"
   ],
   "id": "af4dcc9f13883757",
   "outputs": [],
   "execution_count": 3
  },
  {
   "metadata": {
    "ExecuteTime": {
     "end_time": "2025-06-21T11:42:22.828892Z",
     "start_time": "2025-06-21T11:42:22.781936Z"
    }
   },
   "cell_type": "code",
   "source": "df = pd.read_csv(\"data/headhway_review_rating.csv\")",
   "id": "e7c3af31c00d6a8a",
   "outputs": [],
   "execution_count": 4
  },
  {
   "metadata": {
    "ExecuteTime": {
     "end_time": "2025-06-21T11:42:23.081669Z",
     "start_time": "2025-06-21T11:42:23.054055Z"
    }
   },
   "cell_type": "code",
   "source": "df.loc[df.rating < 4].to_csv(\"data/headhway_review_rating_sample.csv\", index=False)",
   "id": "5a73ef3bdc3d55f",
   "outputs": [],
   "execution_count": 5
  },
  {
   "metadata": {
    "ExecuteTime": {
     "end_time": "2025-06-21T11:42:23.696430Z",
     "start_time": "2025-06-21T11:42:23.692186Z"
    }
   },
   "cell_type": "code",
   "source": "df = df.loc[df.rating < 4]",
   "id": "8846a64db6cd21d7",
   "outputs": [],
   "execution_count": 6
  },
  {
   "metadata": {
    "ExecuteTime": {
     "end_time": "2025-06-21T11:42:25.305473Z",
     "start_time": "2025-06-21T11:42:25.298594Z"
    }
   },
   "cell_type": "code",
   "source": "df",
   "id": "83a1a41f684e64a0",
   "outputs": [
    {
     "data": {
      "text/plain": [
       "       rating                                            content\n",
       "0           1  this app is the worst! please avoid it at any ...\n",
       "1           1  i was charged my membership fee 3 times for on...\n",
       "2           1  i thought this was an app that would let me si...\n",
       "3           1  this is a terrible company.  they lure you in ...\n",
       "4           1  content is very superficial .. and then the ty...\n",
       "...       ...                                                ...\n",
       "14069       1  Poor books.after a few nooksstarts yo think al...\n",
       "14070       1  Took $120 out after i canceled before the tria...\n",
       "14071       2  Pretty sure the \"writers\" are AI. Lots of non-...\n",
       "14079       1  Too complicated and too expensive. You have to...\n",
       "14080       3  Some voices are more inherently enjoyable to l...\n",
       "\n",
       "[3991 rows x 2 columns]"
      ],
      "text/html": [
       "<div>\n",
       "<style scoped>\n",
       "    .dataframe tbody tr th:only-of-type {\n",
       "        vertical-align: middle;\n",
       "    }\n",
       "\n",
       "    .dataframe tbody tr th {\n",
       "        vertical-align: top;\n",
       "    }\n",
       "\n",
       "    .dataframe thead th {\n",
       "        text-align: right;\n",
       "    }\n",
       "</style>\n",
       "<table border=\"1\" class=\"dataframe\">\n",
       "  <thead>\n",
       "    <tr style=\"text-align: right;\">\n",
       "      <th></th>\n",
       "      <th>rating</th>\n",
       "      <th>content</th>\n",
       "    </tr>\n",
       "  </thead>\n",
       "  <tbody>\n",
       "    <tr>\n",
       "      <th>0</th>\n",
       "      <td>1</td>\n",
       "      <td>this app is the worst! please avoid it at any ...</td>\n",
       "    </tr>\n",
       "    <tr>\n",
       "      <th>1</th>\n",
       "      <td>1</td>\n",
       "      <td>i was charged my membership fee 3 times for on...</td>\n",
       "    </tr>\n",
       "    <tr>\n",
       "      <th>2</th>\n",
       "      <td>1</td>\n",
       "      <td>i thought this was an app that would let me si...</td>\n",
       "    </tr>\n",
       "    <tr>\n",
       "      <th>3</th>\n",
       "      <td>1</td>\n",
       "      <td>this is a terrible company.  they lure you in ...</td>\n",
       "    </tr>\n",
       "    <tr>\n",
       "      <th>4</th>\n",
       "      <td>1</td>\n",
       "      <td>content is very superficial .. and then the ty...</td>\n",
       "    </tr>\n",
       "    <tr>\n",
       "      <th>...</th>\n",
       "      <td>...</td>\n",
       "      <td>...</td>\n",
       "    </tr>\n",
       "    <tr>\n",
       "      <th>14069</th>\n",
       "      <td>1</td>\n",
       "      <td>Poor books.after a few nooksstarts yo think al...</td>\n",
       "    </tr>\n",
       "    <tr>\n",
       "      <th>14070</th>\n",
       "      <td>1</td>\n",
       "      <td>Took $120 out after i canceled before the tria...</td>\n",
       "    </tr>\n",
       "    <tr>\n",
       "      <th>14071</th>\n",
       "      <td>2</td>\n",
       "      <td>Pretty sure the \"writers\" are AI. Lots of non-...</td>\n",
       "    </tr>\n",
       "    <tr>\n",
       "      <th>14079</th>\n",
       "      <td>1</td>\n",
       "      <td>Too complicated and too expensive. You have to...</td>\n",
       "    </tr>\n",
       "    <tr>\n",
       "      <th>14080</th>\n",
       "      <td>3</td>\n",
       "      <td>Some voices are more inherently enjoyable to l...</td>\n",
       "    </tr>\n",
       "  </tbody>\n",
       "</table>\n",
       "<p>3991 rows × 2 columns</p>\n",
       "</div>"
      ]
     },
     "execution_count": 7,
     "metadata": {},
     "output_type": "execute_result"
    }
   ],
   "execution_count": 7
  },
  {
   "metadata": {
    "ExecuteTime": {
     "end_time": "2025-06-21T11:08:57.183658Z",
     "start_time": "2025-06-21T11:08:57.174112Z"
    }
   },
   "cell_type": "code",
   "source": [
    "creds = YamlParser(\"creds/openai.yml\").read()\n",
    "OPENAI_API_KEY = creds[\"OPENAI_API_KEY\"]"
   ],
   "id": "48f3a211d0c29fdc",
   "outputs": [],
   "execution_count": 41
  },
  {
   "metadata": {
    "ExecuteTime": {
     "end_time": "2025-06-21T11:08:57.496516Z",
     "start_time": "2025-06-21T11:08:57.491471Z"
    }
   },
   "cell_type": "code",
   "source": [
    "try:\n",
    "    with open(\"prompts/message_sentiments_prompt.md\", 'r', encoding='utf-8') as file:\n",
    "        MARKDOWN_PROMPT = file.read()\n",
    "        # Now the 'markdown_content' variable holds the entire content of the file.\n",
    "        # You can now print it, process it, etc.\n",
    "        # For example:\n",
    "        # print(markdown_content)\n",
    "except FileNotFoundError:\n",
    "    print(\"Error: The file could not be found.\")\n",
    "except Exception as e:\n",
    "    print(f\"An error occurred: {e}\")\n",
    "\n",
    "print(MARKDOWN_PROMPT)"
   ],
   "id": "e3d36adee33b3ad8",
   "outputs": [
    {
     "name": "stdout",
     "output_type": "stream",
     "text": [
      "## Classification Instructions  \n",
      "You are a review classification expert. Given a customer review, analyze it according to the following steps:  \n",
      "      \n",
      "### Instructions Details  \n",
      "    1. Content Screening:  \n",
      "      - First, check if the review contains any content that should be flagged (inappropriate_content, hate_speech, spam, threat, private_information)  \n",
      "      - If flagged content is found, note this in the metadata but continue with classification  \n",
      "    2. Primary Classification:\n",
      "      - For each relevant review, identify a specific category and subcategory that applies based on the hierarchy table posted below.  \n",
      "      - Multiple classifications are not allowed. If the review touches multiple areas please select just the category that is most relevant.\n",
      "    3. Evaluate Sentiment:  \n",
      "      - Determine the sentiment of the review (positive, negative, neutral, mixed)  \n",
      "      - If the review is negative, provide a list of key points, keywords\n",
      "        - keywords must be from list of keywords mentioned in a table (Hierarchy Table) \n",
      "    4. Priority Assessment:  \n",
      "      - Assign a priority level (low, medium, high, critical) based on:  \n",
      "      - Impact on user experience  \n",
      "      - Potential business impact  \n",
      "      - Urgency of resolution  \n",
      "      - Safety/security concerns\n",
      "\n",
      "## Response Format\n",
      "  \n",
      "Please provide a raw JSON object with the following structure, without any additional labels or formatting:\n",
      "  \n",
      "{\n",
      "        \"content_flags\": [], \n",
      "        \"sentiment\": \"\",\n",
      "        \"priority_level\": \"\", \n",
      "        \"category\": \"\",  \n",
      "        \"subcategory\": \"\",  \n",
      "        \"confidence_score\": 0.0,  \n",
      "        \"key_points\": [], \n",
      "        \"keywords\": []\n",
      "    } \n",
      " \n",
      "### Example:  \n",
      "  - Example Review: \"The app keeps crashing every time I try to change my learning schedule. I've tried reinstalling but it's still not working. Really frustrated as it keeps me from learning!\"\n",
      "  - Example Classification Response:   \n",
      "  {  \n",
      "        \"content_flags\": [],  \n",
      "        \"sentiment\": \"negative\",\n",
      "        \"priority_level\": \"high\",     \n",
      "        \"category\": \"Bugs\",  \n",
      "        \"subcategory\": App Crashes\",  \n",
      "        \"key_points\": [  \n",
      "          \"App crashes when trying to change learning schedule\",  \n",
      "          \"Reinstallation attempted without resolution\",  \n",
      "          \"Affecting learning experience\"  \n",
      "        ],  \n",
      "        \"keywords\": [  \n",
      "          \"crash\",  \n",
      "          \"reinstall\",  \n",
      "          \"learning schedule\"  \n",
      "        ]\n",
      "  }  \n",
      "    \n",
      "## Hierarchy Table\n",
      "\n",
      "Main Topic,Sub-Topic,Keywords\n",
      "Subscription & Billing Issues,Unexpected Charges / Scam Allegations,\"\"\"charged me twice\"\", \"\"charged annually without my knowledge\"\", \"\"TOTAL SCAM\"\", \"\"misleading\"\"\"\n",
      "Subscription & Billing Issues,Cancellation & Refund Difficulties,\"\"\"trying to cancel\"\", \"\"no way to cancel\"\", \"\"refused a refund\"\", \"\"customer service is important\"\"\"\n",
      "Subscription & Billing Issues,Misleading Free Trial,\"\"\"trial period is a scam\"\", \"\"thought I was just trying out a free trial\"\", \"\"forgotten to cancel my free trial\"\"\"\n",
      "Subscription & Billing Issues,Deceptive Pricing,\"\"\"tricky thing to tempt us with a certain price\"\", \"\"undurchsichtiger Kauf\"\", \"\"prélèvement de 59,97€!!! pourquoi cette somme?\"\"\"\n",
      "App Quality & User Experience,Technical Problems,\"\"\"constantly crashes\"\", \"\"just disappears\"\", \"\"delete and reinstall\"\", \"\"app language button\"\"\"\n",
      "App Quality & User Experience,Positive User Experience,\"\"\"easy to use\"\", \"\"simple and user friendly interface!\"\", \"\"easy to digest books\"\", \"\"engaging not boring\"\"\"\n",
      "App Quality & User Experience,Login & Access Issues,\"\"\"paid the subscription, but the app is not showing i have full access\"\", \"\"never had access\"\", \"\"not been able to sign up\"\"\"\n",
      "Content & Learning Experience,Positive Feedback on Summaries,\"\"\"summaries are amazing\"\", \"\"in-depth book summaries\"\", \"\"Practical and solid information\"\", \"\"helps me decide\"\"\"\n",
      "Content & Learning Experience,AI Narration Quality,\"\"\"mechanical voices\"\", \"\"robot ai voices\"\", \"\"sounds a little weird\"\", \"\"monotonous\"\"\"\n",
      "Content & Learning Experience,Content Selection,\"\"\"wide selection of books\"\", \"\"large selection of books\"\", \"\"limited repertory\"\"\"\n",
      "Content & Learning Experience,Positive Impact on Life & Habits,\"\"\"took me away from social media\"\", \"\"improving my mental health\"\", \"\"add more value to my life\"\", \"\"he cambiado algunos hábitos\"\"\"\n",
      "Customer Support,Unresponsive/Unhelpful Support,\"\"\"useless “support” team\"\", \"\"never got a reply back\"\", \"\"support did not help\"\", \"\"no resolution\"\"\"\n",
      "Customer Support,Positive Support Experience,\"\"\"super responsive and helpful\"\", \"\"customer service was helpful\"\", \"\"a full refund has been issued\"\"\"\n",
      "\n",
      "## Task  \n",
      "Please now provide the response for this review: ```{%s}```.\n"
     ]
    }
   ],
   "execution_count": 42
  },
  {
   "metadata": {
    "ExecuteTime": {
     "end_time": "2025-06-21T11:08:57.866910Z",
     "start_time": "2025-06-21T11:08:57.862035Z"
    }
   },
   "cell_type": "code",
   "source": [
    "def retry_on_error(max_retries=5, sleep_time=5):\n",
    "    \"\"\"\n",
    "    Handy decorator to fight the crashes in the API\n",
    "    \"\"\"\n",
    "\n",
    "    def decorator_retry(func):\n",
    "        def wrapper(*args, **kwargs):\n",
    "            retries = 0\n",
    "            while retries < max_retries:\n",
    "                try:\n",
    "                    result = func(*args, **kwargs)\n",
    "                    return result\n",
    "                except Exception as e:\n",
    "                    print(f\"An error occurred: {e}\")\n",
    "                    retries += 1\n",
    "                    time.sleep(sleep_time)\n",
    "            return None\n",
    "\n",
    "        return wrapper\n",
    "\n",
    "    return decorator_retry"
   ],
   "id": "f9a90f8d8b72ce5",
   "outputs": [],
   "execution_count": 43
  },
  {
   "metadata": {
    "ExecuteTime": {
     "end_time": "2025-06-21T11:08:58.561084Z",
     "start_time": "2025-06-21T11:08:58.557717Z"
    }
   },
   "cell_type": "code",
   "source": [
    "# --- Setup Logging ---\n",
    "import logging\n",
    "\n",
    "date_string = datetime.datetime.now().date().isoformat()\n",
    "log_file_path = f\"logs/{date_string}.log\"\n",
    "logging.basicConfig(\n",
    "    level=logging.INFO,\n",
    "    format='%(asctime)s - %(levelname)s - %(message)s',\n",
    "    handlers=[\n",
    "        logging.FileHandler(log_file_path),\n",
    "        # logging.StreamHandler() # Also print to console\n",
    "    ]\n",
    ")"
   ],
   "id": "30f6e035f9233e5",
   "outputs": [],
   "execution_count": 44
  },
  {
   "metadata": {
    "ExecuteTime": {
     "end_time": "2025-06-21T11:08:59.055200Z",
     "start_time": "2025-06-21T11:08:59.051809Z"
    }
   },
   "cell_type": "code",
   "source": [
    "@retry_on_error()\n",
    "def classify_topic(text, sleep_time=0.001, number=1):\n",
    "    openai.api_key = OPENAI_API_KEY\n",
    "    prompt = MARKDOWN_PROMPT%(text)\n",
    "\n",
    "    client = openai.OpenAI(api_key=OPENAI_API_KEY)\n",
    "    response = client.chat.completions.create(\n",
    "        model=\"gpt-4.1\",\n",
    "        messages=[\n",
    "            {\"role\": \"user\", \"content\": prompt}\n",
    "        ],\n",
    "        max_tokens=2048,\n",
    "        n=1,\n",
    "        temperature=0.1,\n",
    "    )\n",
    "\n",
    "    result = json.loads(response.choices[0].message.content.strip())\n",
    "    result['content'] = text\n",
    "    time.sleep(sleep_time)\n",
    "    logging.info(f\"{number} - {result['content']}\")\n",
    "    return result"
   ],
   "id": "a998a995aa12bdda",
   "outputs": [],
   "execution_count": 45
  },
  {
   "metadata": {},
   "cell_type": "code",
   "outputs": [],
   "execution_count": null,
   "source": [
    "res = []\n",
    "\n",
    "for index, row in df.iterrows():\n",
    "    res.append(classify_topic(text=row.get('content'), number=index))"
   ],
   "id": "e2e3865698efbe34"
  },
  {
   "metadata": {
    "ExecuteTime": {
     "end_time": "2025-06-21T11:30:14.033880Z",
     "start_time": "2025-06-21T11:08:59.960639Z"
    }
   },
   "cell_type": "code",
   "source": [
    "# res = Parallel(n_jobs=1, verbose=2)(delayed(classify_topic)(text=row.get('content'), number=index) for index, row in df.iterrows())\n",
    "\n",
    "# df_result = pd.DataFrame(res)"
   ],
   "id": "462146ef7c90600",
   "outputs": [
    {
     "name": "stderr",
     "output_type": "stream",
     "text": [
      "[Parallel(n_jobs=2)]: Using backend LokyBackend with 2 concurrent workers.\n",
      "[Parallel(n_jobs=2)]: Done  37 tasks      | elapsed:   33.2s\n"
     ]
    },
    {
     "name": "stdout",
     "output_type": "stream",
     "text": [
      "An error occurred: Error code: 429 - {'error': {'message': 'Rate limit reached for gpt-4.1 in organization org-YTnjieofFEpNu1s5z7Oh6TDq on tokens per min (TPM): Limit 30000, Used 29678, Requested 1430. Please try again in 2.216s. Visit https://platform.openai.com/account/rate-limits to learn more.', 'type': 'tokens', 'param': None, 'code': 'rate_limit_exceeded'}}\n",
      "An error occurred: Error code: 429 - {'error': {'message': 'Rate limit reached for gpt-4.1 in organization org-YTnjieofFEpNu1s5z7Oh6TDq on tokens per min (TPM): Limit 30000, Used 29638, Requested 1430. Please try again in 2.136s. Visit https://platform.openai.com/account/rate-limits to learn more.', 'type': 'tokens', 'param': None, 'code': 'rate_limit_exceeded'}}\n",
      "An error occurred: Error code: 429 - {'error': {'message': 'Rate limit reached for gpt-4.1 in organization org-YTnjieofFEpNu1s5z7Oh6TDq on tokens per min (TPM): Limit 30000, Used 29659, Requested 1430. Please try again in 2.178s. Visit https://platform.openai.com/account/rate-limits to learn more.', 'type': 'tokens', 'param': None, 'code': 'rate_limit_exceeded'}}\n",
      "An error occurred: Error code: 429 - {'error': {'message': 'Rate limit reached for gpt-4.1 in organization org-YTnjieofFEpNu1s5z7Oh6TDq on tokens per min (TPM): Limit 30000, Used 29711, Requested 1430. Please try again in 2.282s. Visit https://platform.openai.com/account/rate-limits to learn more.', 'type': 'tokens', 'param': None, 'code': 'rate_limit_exceeded'}}\n",
      "An error occurred: Error code: 429 - {'error': {'message': 'Rate limit reached for gpt-4.1 in organization org-YTnjieofFEpNu1s5z7Oh6TDq on tokens per min (TPM): Limit 30000, Used 29816, Requested 1266. Please try again in 2.164s. Visit https://platform.openai.com/account/rate-limits to learn more.', 'type': 'tokens', 'param': None, 'code': 'rate_limit_exceeded'}}\n",
      "An error occurred: Error code: 429 - {'error': {'message': 'Rate limit reached for gpt-4.1 in organization org-YTnjieofFEpNu1s5z7Oh6TDq on tokens per min (TPM): Limit 30000, Used 29807, Requested 1299. Please try again in 2.212s. Visit https://platform.openai.com/account/rate-limits to learn more.', 'type': 'tokens', 'param': None, 'code': 'rate_limit_exceeded'}}\n",
      "An error occurred: Error code: 429 - {'error': {'message': 'Rate limit reached for gpt-4.1 in organization org-YTnjieofFEpNu1s5z7Oh6TDq on tokens per min (TPM): Limit 30000, Used 29729, Requested 1368. Please try again in 2.194s. Visit https://platform.openai.com/account/rate-limits to learn more.', 'type': 'tokens', 'param': None, 'code': 'rate_limit_exceeded'}}\n",
      "An error occurred: Error code: 429 - {'error': {'message': 'Rate limit reached for gpt-4.1 in organization org-YTnjieofFEpNu1s5z7Oh6TDq on tokens per min (TPM): Limit 30000, Used 29586, Requested 1368. Please try again in 1.908s. Visit https://platform.openai.com/account/rate-limits to learn more.', 'type': 'tokens', 'param': None, 'code': 'rate_limit_exceeded'}}\n",
      "An error occurred: Error code: 429 - {'error': {'message': 'Rate limit reached for gpt-4.1 in organization org-YTnjieofFEpNu1s5z7Oh6TDq on tokens per min (TPM): Limit 30000, Used 29733, Requested 1368. Please try again in 2.202s. Visit https://platform.openai.com/account/rate-limits to learn more.', 'type': 'tokens', 'param': None, 'code': 'rate_limit_exceeded'}}\n",
      "An error occurred: Error code: 429 - {'error': {'message': 'Rate limit reached for gpt-4.1 in organization org-YTnjieofFEpNu1s5z7Oh6TDq on tokens per min (TPM): Limit 30000, Used 29644, Requested 1368. Please try again in 2.023s. Visit https://platform.openai.com/account/rate-limits to learn more.', 'type': 'tokens', 'param': None, 'code': 'rate_limit_exceeded'}}\n",
      "An error occurred: Error code: 429 - {'error': {'message': 'Rate limit reached for gpt-4.1 in organization org-YTnjieofFEpNu1s5z7Oh6TDq on tokens per min (TPM): Limit 30000, Used 29772, Requested 1253. Please try again in 2.05s. Visit https://platform.openai.com/account/rate-limits to learn more.', 'type': 'tokens', 'param': None, 'code': 'rate_limit_exceeded'}}\n",
      "An error occurred: Error code: 429 - {'error': {'message': 'Rate limit reached for gpt-4.1 in organization org-YTnjieofFEpNu1s5z7Oh6TDq on tokens per min (TPM): Limit 30000, Used 29883, Requested 1355. Please try again in 2.476s. Visit https://platform.openai.com/account/rate-limits to learn more.', 'type': 'tokens', 'param': None, 'code': 'rate_limit_exceeded'}}\n",
      "An error occurred: Error code: 429 - {'error': {'message': 'Rate limit reached for gpt-4.1 in organization org-YTnjieofFEpNu1s5z7Oh6TDq on tokens per min (TPM): Limit 30000, Used 29655, Requested 1355. Please try again in 2.019s. Visit https://platform.openai.com/account/rate-limits to learn more.', 'type': 'tokens', 'param': None, 'code': 'rate_limit_exceeded'}}\n",
      "An error occurred: Error code: 429 - {'error': {'message': 'Rate limit reached for gpt-4.1 in organization org-YTnjieofFEpNu1s5z7Oh6TDq on tokens per min (TPM): Limit 30000, Used 29750, Requested 1355. Please try again in 2.21s. Visit https://platform.openai.com/account/rate-limits to learn more.', 'type': 'tokens', 'param': None, 'code': 'rate_limit_exceeded'}}\n",
      "An error occurred: Error code: 429 - {'error': {'message': 'Rate limit reached for gpt-4.1 in organization org-YTnjieofFEpNu1s5z7Oh6TDq on tokens per min (TPM): Limit 30000, Used 29743, Requested 1355. Please try again in 2.196s. Visit https://platform.openai.com/account/rate-limits to learn more.', 'type': 'tokens', 'param': None, 'code': 'rate_limit_exceeded'}}\n",
      "An error occurred: Error code: 429 - {'error': {'message': 'Rate limit reached for gpt-4.1 in organization org-YTnjieofFEpNu1s5z7Oh6TDq on tokens per min (TPM): Limit 30000, Used 29736, Requested 1355. Please try again in 2.182s. Visit https://platform.openai.com/account/rate-limits to learn more.', 'type': 'tokens', 'param': None, 'code': 'rate_limit_exceeded'}}\n",
      "An error occurred: Error code: 429 - {'error': {'message': 'Rate limit reached for gpt-4.1 in organization org-YTnjieofFEpNu1s5z7Oh6TDq on tokens per min (TPM): Limit 30000, Used 29782, Requested 1287. Please try again in 2.138s. Visit https://platform.openai.com/account/rate-limits to learn more.', 'type': 'tokens', 'param': None, 'code': 'rate_limit_exceeded'}}\n",
      "An error occurred: Error code: 429 - {'error': {'message': 'Rate limit reached for gpt-4.1 in organization org-YTnjieofFEpNu1s5z7Oh6TDq on tokens per min (TPM): Limit 30000, Used 29750, Requested 1279. Please try again in 2.058s. Visit https://platform.openai.com/account/rate-limits to learn more.', 'type': 'tokens', 'param': None, 'code': 'rate_limit_exceeded'}}\n"
     ]
    },
    {
     "name": "stderr",
     "output_type": "stream",
     "text": [
      "[Parallel(n_jobs=2)]: Done 158 tasks      | elapsed:  5.2min\n"
     ]
    },
    {
     "name": "stdout",
     "output_type": "stream",
     "text": [
      "An error occurred: Error code: 429 - {'error': {'message': 'Rate limit reached for gpt-4.1 in organization org-YTnjieofFEpNu1s5z7Oh6TDq on tokens per min (TPM): Limit 30000, Used 29725, Requested 1291. Please try again in 2.032s. Visit https://platform.openai.com/account/rate-limits to learn more.', 'type': 'tokens', 'param': None, 'code': 'rate_limit_exceeded'}}\n",
      "An error occurred: Error code: 429 - {'error': {'message': 'Rate limit reached for gpt-4.1 in organization org-YTnjieofFEpNu1s5z7Oh6TDq on tokens per min (TPM): Limit 30000, Used 29726, Requested 1291. Please try again in 2.034s. Visit https://platform.openai.com/account/rate-limits to learn more.', 'type': 'tokens', 'param': None, 'code': 'rate_limit_exceeded'}}\n",
      "An error occurred: Error code: 429 - {'error': {'message': 'Rate limit reached for gpt-4.1 in organization org-YTnjieofFEpNu1s5z7Oh6TDq on tokens per min (TPM): Limit 30000, Used 29799, Requested 1291. Please try again in 2.18s. Visit https://platform.openai.com/account/rate-limits to learn more.', 'type': 'tokens', 'param': None, 'code': 'rate_limit_exceeded'}}\n",
      "An error occurred: Error code: 429 - {'error': {'message': 'Rate limit reached for gpt-4.1 in organization org-YTnjieofFEpNu1s5z7Oh6TDq on tokens per min (TPM): Limit 30000, Used 29882, Requested 1225. Please try again in 2.214s. Visit https://platform.openai.com/account/rate-limits to learn more.', 'type': 'tokens', 'param': None, 'code': 'rate_limit_exceeded'}}\n",
      "An error occurred: Error code: 429 - {'error': {'message': 'Rate limit reached for gpt-4.1 in organization org-YTnjieofFEpNu1s5z7Oh6TDq on tokens per min (TPM): Limit 30000, Used 29807, Requested 1225. Please try again in 2.064s. Visit https://platform.openai.com/account/rate-limits to learn more.', 'type': 'tokens', 'param': None, 'code': 'rate_limit_exceeded'}}\n",
      "An error occurred: Error code: 429 - {'error': {'message': 'Rate limit reached for gpt-4.1 in organization org-YTnjieofFEpNu1s5z7Oh6TDq on tokens per min (TPM): Limit 30000, Used 29694, Requested 1431. Please try again in 2.25s. Visit https://platform.openai.com/account/rate-limits to learn more.', 'type': 'tokens', 'param': None, 'code': 'rate_limit_exceeded'}}\n",
      "An error occurred: Error code: 429 - {'error': {'message': 'Rate limit reached for gpt-4.1 in organization org-YTnjieofFEpNu1s5z7Oh6TDq on tokens per min (TPM): Limit 30000, Used 29530, Requested 1548. Please try again in 2.156s. Visit https://platform.openai.com/account/rate-limits to learn more.', 'type': 'tokens', 'param': None, 'code': 'rate_limit_exceeded'}}\n",
      "An error occurred: Error code: 429 - {'error': {'message': 'Rate limit reached for gpt-4.1 in organization org-YTnjieofFEpNu1s5z7Oh6TDq on tokens per min (TPM): Limit 30000, Used 29503, Requested 1548. Please try again in 2.102s. Visit https://platform.openai.com/account/rate-limits to learn more.', 'type': 'tokens', 'param': None, 'code': 'rate_limit_exceeded'}}\n",
      "An error occurred: Error code: 429 - {'error': {'message': 'Rate limit reached for gpt-4.1 in organization org-YTnjieofFEpNu1s5z7Oh6TDq on tokens per min (TPM): Limit 30000, Used 29472, Requested 1548. Please try again in 2.04s. Visit https://platform.openai.com/account/rate-limits to learn more.', 'type': 'tokens', 'param': None, 'code': 'rate_limit_exceeded'}}\n",
      "An error occurred: Error code: 429 - {'error': {'message': 'Rate limit reached for gpt-4.1 in organization org-YTnjieofFEpNu1s5z7Oh6TDq on tokens per min (TPM): Limit 30000, Used 29494, Requested 1548. Please try again in 2.084s. Visit https://platform.openai.com/account/rate-limits to learn more.', 'type': 'tokens', 'param': None, 'code': 'rate_limit_exceeded'}}\n",
      "An error occurred: Error code: 429 - {'error': {'message': 'Rate limit reached for gpt-4.1 in organization org-YTnjieofFEpNu1s5z7Oh6TDq on tokens per min (TPM): Limit 30000, Used 29660, Requested 1548. Please try again in 2.416s. Visit https://platform.openai.com/account/rate-limits to learn more.', 'type': 'tokens', 'param': None, 'code': 'rate_limit_exceeded'}}\n",
      "An error occurred: Error code: 429 - {'error': {'message': 'Rate limit reached for gpt-4.1 in organization org-YTnjieofFEpNu1s5z7Oh6TDq on tokens per min (TPM): Limit 30000, Used 29795, Requested 1258. Please try again in 2.106s. Visit https://platform.openai.com/account/rate-limits to learn more.', 'type': 'tokens', 'param': None, 'code': 'rate_limit_exceeded'}}\n",
      "An error occurred: Error code: 429 - {'error': {'message': 'Rate limit reached for gpt-4.1 in organization org-YTnjieofFEpNu1s5z7Oh6TDq on tokens per min (TPM): Limit 30000, Used 29707, Requested 1333. Please try again in 2.08s. Visit https://platform.openai.com/account/rate-limits to learn more.', 'type': 'tokens', 'param': None, 'code': 'rate_limit_exceeded'}}\n",
      "An error occurred: Error code: 429 - {'error': {'message': 'Rate limit reached for gpt-4.1 in organization org-YTnjieofFEpNu1s5z7Oh6TDq on tokens per min (TPM): Limit 30000, Used 29730, Requested 1333. Please try again in 2.126s. Visit https://platform.openai.com/account/rate-limits to learn more.', 'type': 'tokens', 'param': None, 'code': 'rate_limit_exceeded'}}\n",
      "An error occurred: Error code: 429 - {'error': {'message': 'Rate limit reached for gpt-4.1 in organization org-YTnjieofFEpNu1s5z7Oh6TDq on tokens per min (TPM): Limit 30000, Used 29713, Requested 1333. Please try again in 2.092s. Visit https://platform.openai.com/account/rate-limits to learn more.', 'type': 'tokens', 'param': None, 'code': 'rate_limit_exceeded'}}\n",
      "An error occurred: Error code: 429 - {'error': {'message': 'Rate limit reached for gpt-4.1 in organization org-YTnjieofFEpNu1s5z7Oh6TDq on tokens per min (TPM): Limit 30000, Used 29687, Requested 1333. Please try again in 2.04s. Visit https://platform.openai.com/account/rate-limits to learn more.', 'type': 'tokens', 'param': None, 'code': 'rate_limit_exceeded'}}\n",
      "An error occurred: Error code: 429 - {'error': {'message': 'Rate limit reached for gpt-4.1 in organization org-YTnjieofFEpNu1s5z7Oh6TDq on tokens per min (TPM): Limit 30000, Used 29759, Requested 1333. Please try again in 2.184s. Visit https://platform.openai.com/account/rate-limits to learn more.', 'type': 'tokens', 'param': None, 'code': 'rate_limit_exceeded'}}\n",
      "An error occurred: Error code: 429 - {'error': {'message': 'Rate limit reached for gpt-4.1 in organization org-YTnjieofFEpNu1s5z7Oh6TDq on tokens per min (TPM): Limit 30000, Used 29746, Requested 1388. Please try again in 2.268s. Visit https://platform.openai.com/account/rate-limits to learn more.', 'type': 'tokens', 'param': None, 'code': 'rate_limit_exceeded'}}\n",
      "An error occurred: Error code: 429 - {'error': {'message': 'Rate limit reached for gpt-4.1 in organization org-YTnjieofFEpNu1s5z7Oh6TDq on tokens per min (TPM): Limit 30000, Used 29625, Requested 1388. Please try again in 2.026s. Visit https://platform.openai.com/account/rate-limits to learn more.', 'type': 'tokens', 'param': None, 'code': 'rate_limit_exceeded'}}\n",
      "An error occurred: Error code: 429 - {'error': {'message': 'Rate limit reached for gpt-4.1 in organization org-YTnjieofFEpNu1s5z7Oh6TDq on tokens per min (TPM): Limit 30000, Used 29668, Requested 1388. Please try again in 2.112s. Visit https://platform.openai.com/account/rate-limits to learn more.', 'type': 'tokens', 'param': None, 'code': 'rate_limit_exceeded'}}\n",
      "An error occurred: Error code: 429 - {'error': {'message': 'Rate limit reached for gpt-4.1 in organization org-YTnjieofFEpNu1s5z7Oh6TDq on tokens per min (TPM): Limit 30000, Used 29876, Requested 1257. Please try again in 2.266s. Visit https://platform.openai.com/account/rate-limits to learn more.', 'type': 'tokens', 'param': None, 'code': 'rate_limit_exceeded'}}\n",
      "An error occurred: Error code: 429 - {'error': {'message': 'Rate limit reached for gpt-4.1 in organization org-YTnjieofFEpNu1s5z7Oh6TDq on tokens per min (TPM): Limit 30000, Used 29794, Requested 1287. Please try again in 2.162s. Visit https://platform.openai.com/account/rate-limits to learn more.', 'type': 'tokens', 'param': None, 'code': 'rate_limit_exceeded'}}\n",
      "An error occurred: Error code: 429 - {'error': {'message': 'Rate limit reached for gpt-4.1 in organization org-YTnjieofFEpNu1s5z7Oh6TDq on tokens per min (TPM): Limit 30000, Used 29791, Requested 1272. Please try again in 2.126s. Visit https://platform.openai.com/account/rate-limits to learn more.', 'type': 'tokens', 'param': None, 'code': 'rate_limit_exceeded'}}\n",
      "An error occurred: Error code: 429 - {'error': {'message': 'Rate limit reached for gpt-4.1 in organization org-YTnjieofFEpNu1s5z7Oh6TDq on tokens per min (TPM): Limit 30000, Used 29779, Requested 1272. Please try again in 2.102s. Visit https://platform.openai.com/account/rate-limits to learn more.', 'type': 'tokens', 'param': None, 'code': 'rate_limit_exceeded'}}\n",
      "An error occurred: Error code: 429 - {'error': {'message': 'Rate limit reached for gpt-4.1 in organization org-YTnjieofFEpNu1s5z7Oh6TDq on tokens per min (TPM): Limit 30000, Used 29741, Requested 1272. Please try again in 2.026s. Visit https://platform.openai.com/account/rate-limits to learn more.', 'type': 'tokens', 'param': None, 'code': 'rate_limit_exceeded'}}\n",
      "An error occurred: Error code: 429 - {'error': {'message': 'Rate limit reached for gpt-4.1 in organization org-YTnjieofFEpNu1s5z7Oh6TDq on tokens per min (TPM): Limit 30000, Used 29773, Requested 1272. Please try again in 2.09s. Visit https://platform.openai.com/account/rate-limits to learn more.', 'type': 'tokens', 'param': None, 'code': 'rate_limit_exceeded'}}\n",
      "An error occurred: Error code: 429 - {'error': {'message': 'Rate limit reached for gpt-4.1 in organization org-YTnjieofFEpNu1s5z7Oh6TDq on tokens per min (TPM): Limit 30000, Used 29704, Requested 1376. Please try again in 2.16s. Visit https://platform.openai.com/account/rate-limits to learn more.', 'type': 'tokens', 'param': None, 'code': 'rate_limit_exceeded'}}\n",
      "An error occurred: Error code: 429 - {'error': {'message': 'Rate limit reached for gpt-4.1 in organization org-YTnjieofFEpNu1s5z7Oh6TDq on tokens per min (TPM): Limit 30000, Used 29602, Requested 1376. Please try again in 1.955s. Visit https://platform.openai.com/account/rate-limits to learn more.', 'type': 'tokens', 'param': None, 'code': 'rate_limit_exceeded'}}\n",
      "An error occurred: Error code: 429 - {'error': {'message': 'Rate limit reached for gpt-4.1 in organization org-YTnjieofFEpNu1s5z7Oh6TDq on tokens per min (TPM): Limit 30000, Used 29631, Requested 1376. Please try again in 2.014s. Visit https://platform.openai.com/account/rate-limits to learn more.', 'type': 'tokens', 'param': None, 'code': 'rate_limit_exceeded'}}\n",
      "An error occurred: Error code: 429 - {'error': {'message': 'Rate limit reached for gpt-4.1 in organization org-YTnjieofFEpNu1s5z7Oh6TDq on tokens per min (TPM): Limit 30000, Used 29837, Requested 1211. Please try again in 2.096s. Visit https://platform.openai.com/account/rate-limits to learn more.', 'type': 'tokens', 'param': None, 'code': 'rate_limit_exceeded'}}\n",
      "An error occurred: Error code: 429 - {'error': {'message': 'Rate limit reached for gpt-4.1 in organization org-YTnjieofFEpNu1s5z7Oh6TDq on tokens per min (TPM): Limit 30000, Used 29907, Requested 1261. Please try again in 2.336s. Visit https://platform.openai.com/account/rate-limits to learn more.', 'type': 'tokens', 'param': None, 'code': 'rate_limit_exceeded'}}\n",
      "An error occurred: Error code: 429 - {'error': {'message': 'Rate limit reached for gpt-4.1 in organization org-YTnjieofFEpNu1s5z7Oh6TDq on tokens per min (TPM): Limit 30000, Used 29776, Requested 1261. Please try again in 2.074s. Visit https://platform.openai.com/account/rate-limits to learn more.', 'type': 'tokens', 'param': None, 'code': 'rate_limit_exceeded'}}\n"
     ]
    },
    {
     "name": "stderr",
     "output_type": "stream",
     "text": [
      "[Parallel(n_jobs=2)]: Done 361 tasks      | elapsed: 13.1min\n"
     ]
    },
    {
     "name": "stdout",
     "output_type": "stream",
     "text": [
      "An error occurred: Error code: 429 - {'error': {'message': 'Rate limit reached for gpt-4.1 in organization org-YTnjieofFEpNu1s5z7Oh6TDq on tokens per min (TPM): Limit 30000, Used 29739, Requested 1261. Please try again in 2s. Visit https://platform.openai.com/account/rate-limits to learn more.', 'type': 'tokens', 'param': None, 'code': 'rate_limit_exceeded'}}\n",
      "An error occurred: Error code: 429 - {'error': {'message': 'Rate limit reached for gpt-4.1 in organization org-YTnjieofFEpNu1s5z7Oh6TDq on tokens per min (TPM): Limit 30000, Used 29751, Requested 1314. Please try again in 2.13s. Visit https://platform.openai.com/account/rate-limits to learn more.', 'type': 'tokens', 'param': None, 'code': 'rate_limit_exceeded'}}\n",
      "An error occurred: Error code: 429 - {'error': {'message': 'Rate limit reached for gpt-4.1 in organization org-YTnjieofFEpNu1s5z7Oh6TDq on tokens per min (TPM): Limit 30000, Used 29925, Requested 1220. Please try again in 2.29s. Visit https://platform.openai.com/account/rate-limits to learn more.', 'type': 'tokens', 'param': None, 'code': 'rate_limit_exceeded'}}\n",
      "An error occurred: Error code: 429 - {'error': {'message': 'Rate limit reached for gpt-4.1 in organization org-YTnjieofFEpNu1s5z7Oh6TDq on tokens per min (TPM): Limit 30000, Used 29841, Requested 1249. Please try again in 2.18s. Visit https://platform.openai.com/account/rate-limits to learn more.', 'type': 'tokens', 'param': None, 'code': 'rate_limit_exceeded'}}\n",
      "An error occurred: Error code: 429 - {'error': {'message': 'Rate limit reached for gpt-4.1 in organization org-YTnjieofFEpNu1s5z7Oh6TDq on tokens per min (TPM): Limit 30000, Used 29732, Requested 1348. Please try again in 2.16s. Visit https://platform.openai.com/account/rate-limits to learn more.', 'type': 'tokens', 'param': None, 'code': 'rate_limit_exceeded'}}\n",
      "An error occurred: Error code: 429 - {'error': {'message': 'Rate limit reached for gpt-4.1 in organization org-YTnjieofFEpNu1s5z7Oh6TDq on tokens per min (TPM): Limit 30000, Used 29751, Requested 1348. Please try again in 2.198s. Visit https://platform.openai.com/account/rate-limits to learn more.', 'type': 'tokens', 'param': None, 'code': 'rate_limit_exceeded'}}\n",
      "An error occurred: Expecting value: line 16 column 32 (char 590)\n",
      "An error occurred: Expecting value: line 16 column 32 (char 583)\n",
      "An error occurred: Error code: 429 - {'error': {'message': 'Rate limit reached for gpt-4.1 in organization org-YTnjieofFEpNu1s5z7Oh6TDq on tokens per min (TPM): Limit 30000, Used 29678, Requested 1299. Please try again in 1.954s. Visit https://platform.openai.com/account/rate-limits to learn more.', 'type': 'tokens', 'param': None, 'code': 'rate_limit_exceeded'}}\n",
      "An error occurred: Error code: 429 - {'error': {'message': 'Rate limit reached for gpt-4.1 in organization org-YTnjieofFEpNu1s5z7Oh6TDq on tokens per min (TPM): Limit 30000, Used 29862, Requested 1312. Please try again in 2.348s. Visit https://platform.openai.com/account/rate-limits to learn more.', 'type': 'tokens', 'param': None, 'code': 'rate_limit_exceeded'}}\n",
      "An error occurred: Error code: 429 - {'error': {'message': 'Rate limit reached for gpt-4.1 in organization org-YTnjieofFEpNu1s5z7Oh6TDq on tokens per min (TPM): Limit 30000, Used 29739, Requested 1312. Please try again in 2.102s. Visit https://platform.openai.com/account/rate-limits to learn more.', 'type': 'tokens', 'param': None, 'code': 'rate_limit_exceeded'}}\n",
      "An error occurred: Error code: 429 - {'error': {'message': 'Rate limit reached for gpt-4.1 in organization org-YTnjieofFEpNu1s5z7Oh6TDq on tokens per min (TPM): Limit 30000, Used 29753, Requested 1340. Please try again in 2.186s. Visit https://platform.openai.com/account/rate-limits to learn more.', 'type': 'tokens', 'param': None, 'code': 'rate_limit_exceeded'}}\n",
      "An error occurred: Error code: 429 - {'error': {'message': 'Rate limit reached for gpt-4.1 in organization org-YTnjieofFEpNu1s5z7Oh6TDq on tokens per min (TPM): Limit 30000, Used 29712, Requested 1340. Please try again in 2.104s. Visit https://platform.openai.com/account/rate-limits to learn more.', 'type': 'tokens', 'param': None, 'code': 'rate_limit_exceeded'}}\n",
      "An error occurred: Error code: 429 - {'error': {'message': 'Rate limit reached for gpt-4.1 in organization org-YTnjieofFEpNu1s5z7Oh6TDq on tokens per min (TPM): Limit 30000, Used 29711, Requested 1340. Please try again in 2.102s. Visit https://platform.openai.com/account/rate-limits to learn more.', 'type': 'tokens', 'param': None, 'code': 'rate_limit_exceeded'}}\n",
      "An error occurred: Error code: 429 - {'error': {'message': 'Rate limit reached for gpt-4.1 in organization org-YTnjieofFEpNu1s5z7Oh6TDq on tokens per min (TPM): Limit 30000, Used 29767, Requested 1305. Please try again in 2.144s. Visit https://platform.openai.com/account/rate-limits to learn more.', 'type': 'tokens', 'param': None, 'code': 'rate_limit_exceeded'}}\n",
      "An error occurred: Error code: 429 - {'error': {'message': 'Rate limit reached for gpt-4.1 in organization org-YTnjieofFEpNu1s5z7Oh6TDq on tokens per min (TPM): Limit 30000, Used 29688, Requested 1305. Please try again in 1.985s. Visit https://platform.openai.com/account/rate-limits to learn more.', 'type': 'tokens', 'param': None, 'code': 'rate_limit_exceeded'}}\n",
      "An error occurred: Error code: 429 - {'error': {'message': 'Rate limit reached for gpt-4.1 in organization org-YTnjieofFEpNu1s5z7Oh6TDq on tokens per min (TPM): Limit 30000, Used 29741, Requested 1325. Please try again in 2.132s. Visit https://platform.openai.com/account/rate-limits to learn more.', 'type': 'tokens', 'param': None, 'code': 'rate_limit_exceeded'}}\n",
      "An error occurred: Error code: 429 - {'error': {'message': 'Rate limit reached for gpt-4.1 in organization org-YTnjieofFEpNu1s5z7Oh6TDq on tokens per min (TPM): Limit 30000, Used 29878, Requested 1212. Please try again in 2.18s. Visit https://platform.openai.com/account/rate-limits to learn more.', 'type': 'tokens', 'param': None, 'code': 'rate_limit_exceeded'}}\n",
      "An error occurred: Error code: 429 - {'error': {'message': 'Rate limit reached for gpt-4.1 in organization org-YTnjieofFEpNu1s5z7Oh6TDq on tokens per min (TPM): Limit 30000, Used 29773, Requested 1336. Please try again in 2.218s. Visit https://platform.openai.com/account/rate-limits to learn more.', 'type': 'tokens', 'param': None, 'code': 'rate_limit_exceeded'}}\n",
      "An error occurred: Error code: 429 - {'error': {'message': 'Rate limit reached for gpt-4.1 in organization org-YTnjieofFEpNu1s5z7Oh6TDq on tokens per min (TPM): Limit 30000, Used 29843, Requested 1252. Please try again in 2.19s. Visit https://platform.openai.com/account/rate-limits to learn more.', 'type': 'tokens', 'param': None, 'code': 'rate_limit_exceeded'}}\n",
      "An error occurred: Error code: 429 - {'error': {'message': 'Rate limit reached for gpt-4.1 in organization org-YTnjieofFEpNu1s5z7Oh6TDq on tokens per min (TPM): Limit 30000, Used 29746, Requested 1252. Please try again in 1.996s. Visit https://platform.openai.com/account/rate-limits to learn more.', 'type': 'tokens', 'param': None, 'code': 'rate_limit_exceeded'}}\n",
      "An error occurred: Expecting ',' delimiter: line 14 column 31 (char 437)\n",
      "An error occurred: Expecting ',' delimiter: line 14 column 31 (char 446)\n",
      "An error occurred: Error code: 429 - {'error': {'message': 'Rate limit reached for gpt-4.1 in organization org-YTnjieofFEpNu1s5z7Oh6TDq on tokens per min (TPM): Limit 30000, Used 29771, Requested 1303. Please try again in 2.148s. Visit https://platform.openai.com/account/rate-limits to learn more.', 'type': 'tokens', 'param': None, 'code': 'rate_limit_exceeded'}}\n",
      "An error occurred: Error code: 429 - {'error': {'message': 'Rate limit reached for gpt-4.1 in organization org-YTnjieofFEpNu1s5z7Oh6TDq on tokens per min (TPM): Limit 30000, Used 29715, Requested 1303. Please try again in 2.036s. Visit https://platform.openai.com/account/rate-limits to learn more.', 'type': 'tokens', 'param': None, 'code': 'rate_limit_exceeded'}}\n",
      "An error occurred: Error code: 429 - {'error': {'message': 'Rate limit reached for gpt-4.1 in organization org-YTnjieofFEpNu1s5z7Oh6TDq on tokens per min (TPM): Limit 30000, Used 29731, Requested 1303. Please try again in 2.068s. Visit https://platform.openai.com/account/rate-limits to learn more.', 'type': 'tokens', 'param': None, 'code': 'rate_limit_exceeded'}}\n",
      "An error occurred: Error code: 429 - {'error': {'message': 'Rate limit reached for gpt-4.1 in organization org-YTnjieofFEpNu1s5z7Oh6TDq on tokens per min (TPM): Limit 30000, Used 29790, Requested 1267. Please try again in 2.114s. Visit https://platform.openai.com/account/rate-limits to learn more.', 'type': 'tokens', 'param': None, 'code': 'rate_limit_exceeded'}}\n",
      "An error occurred: Error code: 429 - {'error': {'message': 'Rate limit reached for gpt-4.1 in organization org-YTnjieofFEpNu1s5z7Oh6TDq on tokens per min (TPM): Limit 30000, Used 29736, Requested 1352. Please try again in 2.176s. Visit https://platform.openai.com/account/rate-limits to learn more.', 'type': 'tokens', 'param': None, 'code': 'rate_limit_exceeded'}}\n",
      "An error occurred: Error code: 429 - {'error': {'message': 'Rate limit reached for gpt-4.1 in organization org-YTnjieofFEpNu1s5z7Oh6TDq on tokens per min (TPM): Limit 30000, Used 29675, Requested 1352. Please try again in 2.054s. Visit https://platform.openai.com/account/rate-limits to learn more.', 'type': 'tokens', 'param': None, 'code': 'rate_limit_exceeded'}}\n",
      "An error occurred: Error code: 429 - {'error': {'message': 'Rate limit reached for gpt-4.1 in organization org-YTnjieofFEpNu1s5z7Oh6TDq on tokens per min (TPM): Limit 30000, Used 29659, Requested 1352. Please try again in 2.022s. Visit https://platform.openai.com/account/rate-limits to learn more.', 'type': 'tokens', 'param': None, 'code': 'rate_limit_exceeded'}}\n",
      "An error occurred: Error code: 429 - {'error': {'message': 'Rate limit reached for gpt-4.1 in organization org-YTnjieofFEpNu1s5z7Oh6TDq on tokens per min (TPM): Limit 30000, Used 29846, Requested 1228. Please try again in 2.148s. Visit https://platform.openai.com/account/rate-limits to learn more.', 'type': 'tokens', 'param': None, 'code': 'rate_limit_exceeded'}}\n",
      "An error occurred: Error code: 429 - {'error': {'message': 'Rate limit reached for gpt-4.1 in organization org-YTnjieofFEpNu1s5z7Oh6TDq on tokens per min (TPM): Limit 30000, Used 29816, Requested 1228. Please try again in 2.088s. Visit https://platform.openai.com/account/rate-limits to learn more.', 'type': 'tokens', 'param': None, 'code': 'rate_limit_exceeded'}}\n",
      "An error occurred: Error code: 429 - {'error': {'message': 'Rate limit reached for gpt-4.1 in organization org-YTnjieofFEpNu1s5z7Oh6TDq on tokens per min (TPM): Limit 30000, Used 29797, Requested 1199. Please try again in 1.992s. Visit https://platform.openai.com/account/rate-limits to learn more.', 'type': 'tokens', 'param': None, 'code': 'rate_limit_exceeded'}}\n",
      "An error occurred: Error code: 429 - {'error': {'message': 'Rate limit reached for gpt-4.1 in organization org-YTnjieofFEpNu1s5z7Oh6TDq on tokens per min (TPM): Limit 30000, Used 29846, Requested 1266. Please try again in 2.224s. Visit https://platform.openai.com/account/rate-limits to learn more.', 'type': 'tokens', 'param': None, 'code': 'rate_limit_exceeded'}}\n",
      "An error occurred: Error code: 429 - {'error': {'message': 'Rate limit reached for gpt-4.1 in organization org-YTnjieofFEpNu1s5z7Oh6TDq on tokens per min (TPM): Limit 30000, Used 29808, Requested 1312. Please try again in 2.24s. Visit https://platform.openai.com/account/rate-limits to learn more.', 'type': 'tokens', 'param': None, 'code': 'rate_limit_exceeded'}}\n",
      "An error occurred: Error code: 429 - {'error': {'message': 'Rate limit reached for gpt-4.1 in organization org-YTnjieofFEpNu1s5z7Oh6TDq on tokens per min (TPM): Limit 30000, Used 29690, Requested 1312. Please try again in 2.004s. Visit https://platform.openai.com/account/rate-limits to learn more.', 'type': 'tokens', 'param': None, 'code': 'rate_limit_exceeded'}}\n",
      "An error occurred: Error code: 429 - {'error': {'message': 'Rate limit reached for gpt-4.1 in organization org-YTnjieofFEpNu1s5z7Oh6TDq on tokens per min (TPM): Limit 30000, Used 29738, Requested 1333. Please try again in 2.142s. Visit https://platform.openai.com/account/rate-limits to learn more.', 'type': 'tokens', 'param': None, 'code': 'rate_limit_exceeded'}}\n",
      "An error occurred: Expecting ',' delimiter: line 14 column 31 (char 437)\n",
      "An error occurred: Expecting ',' delimiter: line 14 column 31 (char 437)\n",
      "An error occurred: Expecting ',' delimiter: line 14 column 31 (char 437)\n",
      "An error occurred: Expecting ',' delimiter: line 14 column 31 (char 437)\n"
     ]
    },
    {
     "ename": "KeyboardInterrupt",
     "evalue": "",
     "output_type": "error",
     "traceback": [
      "\u001B[31m---------------------------------------------------------------------------\u001B[39m",
      "\u001B[31mKeyboardInterrupt\u001B[39m                         Traceback (most recent call last)",
      "\u001B[36mCell\u001B[39m\u001B[36m \u001B[39m\u001B[32mIn[46]\u001B[39m\u001B[32m, line 1\u001B[39m\n\u001B[32m----> \u001B[39m\u001B[32m1\u001B[39m res = Parallel(n_jobs=\u001B[32m2\u001B[39m, verbose=\u001B[32m2\u001B[39m)(delayed(classify_topic)(text=row.get(\u001B[33m'\u001B[39m\u001B[33mcontent\u001B[39m\u001B[33m'\u001B[39m), number=index) \u001B[38;5;28;01mfor\u001B[39;00m index, row \u001B[38;5;129;01min\u001B[39;00m df.iterrows())\n\u001B[32m      3\u001B[39m df_result = pd.DataFrame(res)\n",
      "\u001B[36mFile \u001B[39m\u001B[32m~/miniconda3/envs/llm-messages-analysis/lib/python3.12/site-packages/joblib/parallel.py:2072\u001B[39m, in \u001B[36mParallel.__call__\u001B[39m\u001B[34m(self, iterable)\u001B[39m\n\u001B[32m   2066\u001B[39m \u001B[38;5;66;03m# The first item from the output is blank, but it makes the interpreter\u001B[39;00m\n\u001B[32m   2067\u001B[39m \u001B[38;5;66;03m# progress until it enters the Try/Except block of the generator and\u001B[39;00m\n\u001B[32m   2068\u001B[39m \u001B[38;5;66;03m# reaches the first `yield` statement. This starts the asynchronous\u001B[39;00m\n\u001B[32m   2069\u001B[39m \u001B[38;5;66;03m# dispatch of the tasks to the workers.\u001B[39;00m\n\u001B[32m   2070\u001B[39m \u001B[38;5;28mnext\u001B[39m(output)\n\u001B[32m-> \u001B[39m\u001B[32m2072\u001B[39m \u001B[38;5;28;01mreturn\u001B[39;00m output \u001B[38;5;28;01mif\u001B[39;00m \u001B[38;5;28mself\u001B[39m.return_generator \u001B[38;5;28;01melse\u001B[39;00m \u001B[38;5;28mlist\u001B[39m(output)\n",
      "\u001B[36mFile \u001B[39m\u001B[32m~/miniconda3/envs/llm-messages-analysis/lib/python3.12/site-packages/joblib/parallel.py:1682\u001B[39m, in \u001B[36mParallel._get_outputs\u001B[39m\u001B[34m(self, iterator, pre_dispatch)\u001B[39m\n\u001B[32m   1679\u001B[39m     \u001B[38;5;28;01myield\u001B[39;00m\n\u001B[32m   1681\u001B[39m     \u001B[38;5;28;01mwith\u001B[39;00m \u001B[38;5;28mself\u001B[39m._backend.retrieval_context():\n\u001B[32m-> \u001B[39m\u001B[32m1682\u001B[39m         \u001B[38;5;28;01myield from\u001B[39;00m \u001B[38;5;28mself\u001B[39m._retrieve()\n\u001B[32m   1684\u001B[39m \u001B[38;5;28;01mexcept\u001B[39;00m \u001B[38;5;167;01mGeneratorExit\u001B[39;00m:\n\u001B[32m   1685\u001B[39m     \u001B[38;5;66;03m# The generator has been garbage collected before being fully\u001B[39;00m\n\u001B[32m   1686\u001B[39m     \u001B[38;5;66;03m# consumed. This aborts the remaining tasks if possible and warn\u001B[39;00m\n\u001B[32m   1687\u001B[39m     \u001B[38;5;66;03m# the user if necessary.\u001B[39;00m\n\u001B[32m   1688\u001B[39m     \u001B[38;5;28mself\u001B[39m._exception = \u001B[38;5;28;01mTrue\u001B[39;00m\n",
      "\u001B[36mFile \u001B[39m\u001B[32m~/miniconda3/envs/llm-messages-analysis/lib/python3.12/site-packages/joblib/parallel.py:1800\u001B[39m, in \u001B[36mParallel._retrieve\u001B[39m\u001B[34m(self)\u001B[39m\n\u001B[32m   1789\u001B[39m \u001B[38;5;28;01mif\u001B[39;00m \u001B[38;5;28mself\u001B[39m.return_ordered:\n\u001B[32m   1790\u001B[39m     \u001B[38;5;66;03m# Case ordered: wait for completion (or error) of the next job\u001B[39;00m\n\u001B[32m   1791\u001B[39m     \u001B[38;5;66;03m# that have been dispatched and not retrieved yet. If no job\u001B[39;00m\n\u001B[32m   (...)\u001B[39m\u001B[32m   1795\u001B[39m     \u001B[38;5;66;03m# control only have to be done on the amount of time the next\u001B[39;00m\n\u001B[32m   1796\u001B[39m     \u001B[38;5;66;03m# dispatched job is pending.\u001B[39;00m\n\u001B[32m   1797\u001B[39m     \u001B[38;5;28;01mif\u001B[39;00m (nb_jobs == \u001B[32m0\u001B[39m) \u001B[38;5;129;01mor\u001B[39;00m (\n\u001B[32m   1798\u001B[39m         \u001B[38;5;28mself\u001B[39m._jobs[\u001B[32m0\u001B[39m].get_status(timeout=\u001B[38;5;28mself\u001B[39m.timeout) == TASK_PENDING\n\u001B[32m   1799\u001B[39m     ):\n\u001B[32m-> \u001B[39m\u001B[32m1800\u001B[39m         time.sleep(\u001B[32m0.01\u001B[39m)\n\u001B[32m   1801\u001B[39m         \u001B[38;5;28;01mcontinue\u001B[39;00m\n\u001B[32m   1803\u001B[39m \u001B[38;5;28;01melif\u001B[39;00m nb_jobs == \u001B[32m0\u001B[39m:\n\u001B[32m   1804\u001B[39m     \u001B[38;5;66;03m# Case unordered: jobs are added to the list of jobs to\u001B[39;00m\n\u001B[32m   1805\u001B[39m     \u001B[38;5;66;03m# retrieve `self._jobs` only once completed or in error, which\u001B[39;00m\n\u001B[32m   (...)\u001B[39m\u001B[32m   1811\u001B[39m     \u001B[38;5;66;03m# timeouts before any other dispatched job has completed and\u001B[39;00m\n\u001B[32m   1812\u001B[39m     \u001B[38;5;66;03m# been added to `self._jobs` to be retrieved.\u001B[39;00m\n",
      "\u001B[31mKeyboardInterrupt\u001B[39m: "
     ]
    }
   ],
   "execution_count": 46
  },
  {
   "metadata": {},
   "cell_type": "code",
   "source": "# res = Parallel(n_jobs=1, verbose=2)(delayed(print)(\"try:\\n\" + text) for text in df.content)",
   "id": "58b81f46f19474de",
   "outputs": [],
   "execution_count": null
  },
  {
   "metadata": {},
   "cell_type": "code",
   "outputs": [],
   "execution_count": null,
   "source": "",
   "id": "bcdb699f6ddd540d"
  }
 ],
 "metadata": {},
 "nbformat": 4,
 "nbformat_minor": 5
}
