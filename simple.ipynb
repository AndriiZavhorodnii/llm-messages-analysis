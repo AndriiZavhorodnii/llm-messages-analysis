{
 "cells": [
  {
   "metadata": {},
   "cell_type": "markdown",
   "source": "source: https://medium.com/@lucafiaschi/turning-customers-feedback-into-action-an-llm-blueprint-for-app-review-analysis-7f5d39d08f6e",
   "id": "bb0d60ce5d9cf630"
  },
  {
   "metadata": {},
   "cell_type": "code",
   "outputs": [],
   "execution_count": null,
   "source": "import pandas as pd",
   "id": "af4dcc9f13883757"
  },
  {
   "metadata": {
    "ExecuteTime": {
     "end_time": "2025-06-20T19:05:46.571842Z",
     "start_time": "2025-06-20T19:05:46.093420Z"
    }
   },
   "cell_type": "code",
   "source": "",
   "id": "e7c3af31c00d6a8a",
   "outputs": [
    {
     "ename": "NameError",
     "evalue": "name 'Sort' is not defined",
     "output_type": "error",
     "traceback": [
      "\u001B[31m---------------------------------------------------------------------------\u001B[39m",
      "\u001B[31mNameError\u001B[39m                                 Traceback (most recent call last)",
      "\u001B[36mCell\u001B[39m\u001B[36m \u001B[39m\u001B[32mIn[1]\u001B[39m\u001B[32m, line 7\u001B[39m\n\u001B[32m      2\u001B[39m \u001B[38;5;28;01mimport\u001B[39;00m\u001B[38;5;250m \u001B[39m\u001B[34;01mpandas\u001B[39;00m\u001B[38;5;250m \u001B[39m\u001B[38;5;28;01mas\u001B[39;00m\u001B[38;5;250m \u001B[39m\u001B[34;01mpd\u001B[39;00m\n\u001B[32m      4\u001B[39m \u001B[38;5;66;03m# Download all reviews for HelloFresh app (US and German regions)\u001B[39;00m\n\u001B[32m      5\u001B[39m us_reviews = reviews_all(\n\u001B[32m      6\u001B[39m     \u001B[33m'\u001B[39m\u001B[33mcom.hellofresh.androidapp\u001B[39m\u001B[33m'\u001B[39m,\n\u001B[32m----> \u001B[39m\u001B[32m7\u001B[39m     lang=\u001B[33m'\u001B[39m\u001B[33men\u001B[39m\u001B[33m'\u001B[39m, country=\u001B[33m'\u001B[39m\u001B[33mus\u001B[39m\u001B[33m'\u001B[39m, sort=Sort.NEWEST\n\u001B[32m      8\u001B[39m )\n\u001B[32m     10\u001B[39m de_reviews = reviews_all(\n\u001B[32m     11\u001B[39m     \u001B[33m'\u001B[39m\u001B[33mcom.hellofresh.androidapp\u001B[39m\u001B[33m'\u001B[39m,\n\u001B[32m     12\u001B[39m     lang=\u001B[33m'\u001B[39m\u001B[33mde\u001B[39m\u001B[33m'\u001B[39m, country=\u001B[33m'\u001B[39m\u001B[33mde\u001B[39m\u001B[33m'\u001B[39m, sort=Sort.NEWEST\n\u001B[32m     13\u001B[39m )\n\u001B[32m     14\u001B[39m \u001B[38;5;66;03m# Combine and create a DataFrame\u001B[39;00m\n",
      "\u001B[31mNameError\u001B[39m: name 'Sort' is not defined"
     ]
    }
   ],
   "execution_count": 1
  },
  {
   "metadata": {},
   "cell_type": "code",
   "outputs": [],
   "execution_count": null,
   "source": "",
   "id": "5a73ef3bdc3d55f"
  }
 ],
 "metadata": {},
 "nbformat": 4,
 "nbformat_minor": 5
}
