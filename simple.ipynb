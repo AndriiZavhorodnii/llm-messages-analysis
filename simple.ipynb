{
 "cells": [
  {
   "metadata": {},
   "cell_type": "markdown",
   "source": "source: https://medium.com/@lucafiaschi/turning-customers-feedback-into-action-an-llm-blueprint-for-app-review-analysis-7f5d39d08f6e",
   "id": "bb0d60ce5d9cf630"
  },
  {
   "metadata": {
    "ExecuteTime": {
     "end_time": "2025-06-21T06:16:10.904735Z",
     "start_time": "2025-06-21T06:16:10.426107Z"
    }
   },
   "cell_type": "code",
   "source": [
    "import json\n",
    "import pandas as pd\n",
    "import numpy as np\n",
    "\n",
    "from joblib import Parallel, delayed\n",
    "import datetime\n",
    "import time\n",
    "\n",
    "import openai\n",
    "import os\n",
    "\n",
    "from yaml_helper import YamlParser"
   ],
   "id": "af4dcc9f13883757",
   "outputs": [],
   "execution_count": 11
  },
  {
   "metadata": {
    "ExecuteTime": {
     "end_time": "2025-06-20T19:31:07.422718Z",
     "start_time": "2025-06-20T19:31:07.217034Z"
    }
   },
   "cell_type": "code",
   "source": "df = pd.read_csv(\"data/Airline_review.csv\")",
   "id": "e7c3af31c00d6a8a",
   "outputs": [],
   "execution_count": 4
  },
  {
   "metadata": {
    "ExecuteTime": {
     "end_time": "2025-06-20T20:01:37.738638Z",
     "start_time": "2025-06-20T20:01:37.701761Z"
    }
   },
   "cell_type": "code",
   "source": "df.sample(1000).to_csv(\"data/Airline_review_sample.csv\", index=False)",
   "id": "5a73ef3bdc3d55f",
   "outputs": [],
   "execution_count": 8
  },
  {
   "metadata": {
    "ExecuteTime": {
     "end_time": "2025-06-21T06:16:13.239751Z",
     "start_time": "2025-06-21T06:16:13.236030Z"
    }
   },
   "cell_type": "code",
   "source": [
    "creds = YamlParser(\"creds/openai.yml\").read()\n",
    "OPENAI_API_KEY = creds[\"OPENAI_API_KEY\"]\n"
   ],
   "id": "48f3a211d0c29fdc",
   "outputs": [],
   "execution_count": 12
  },
  {
   "metadata": {
    "ExecuteTime": {
     "end_time": "2025-06-21T06:17:27.378676Z",
     "start_time": "2025-06-21T06:17:27.367133Z"
    }
   },
   "cell_type": "code",
   "source": [
    "def retry_on_error(max_retries=5, sleep_time=5):\n",
    "    \"\"\"\n",
    "    Handy decorator to fight the crashes in the API\n",
    "    \"\"\"\n",
    "    def decorator_retry(func):\n",
    "        def wrapper(*args, **kwargs):\n",
    "            retries = 0\n",
    "            while retries < max_retries:\n",
    "                try:\n",
    "                    result = func(*args, **kwargs)\n",
    "                    return result\n",
    "                except Exception as e:\n",
    "                    print(f\"An error occurred: {e}\")\n",
    "                    retries += 1\n",
    "                    time.sleep(sleep_time*np.random.rand())\n",
    "            return None\n",
    "        return wrapper\n",
    "    return decorator_retry"
   ],
   "id": "f9a90f8d8b72ce5",
   "outputs": [],
   "execution_count": 13
  },
  {
   "metadata": {},
   "cell_type": "code",
   "outputs": [],
   "execution_count": null,
   "source": [
    "@retry_on_error()\n",
    "def classify_topic(text):\n",
    "    openai.api_key = OPENAI_API_KEY\n",
    "    prompt = MARKDOWN_PROMPT%(text)\n",
    "\n",
    "    client = openai.OpenAI(api_key=OPENAI_API_KEY)\n",
    "    response = client.chat.completions.create(\n",
    "            model=\"gpt-4.1\",\n",
    "            messages=[\n",
    "                {\"role\": \"user\", \"content\": prompt}\n",
    "            ],\n",
    "            max_tokens=2048,\n",
    "            n=1,\n",
    "            temperature=0.1,\n",
    "        )\n",
    "\n",
    "    result = json.loads(response.choices[0].message.content.strip())\n",
    "    result['content'] = text\n",
    "    return result"
   ],
   "id": "a998a995aa12bdda"
  },
  {
   "metadata": {},
   "cell_type": "code",
   "outputs": [],
   "execution_count": null,
   "source": [
    "res=Parallel(n_jobs=25,verbose=2)(delayed(classify_topic)(text) for text in df.content)\n",
    "\n",
    "df_result = pd.DataFrame(res)"
   ],
   "id": "462146ef7c90600"
  }
 ],
 "metadata": {},
 "nbformat": 4,
 "nbformat_minor": 5
}
